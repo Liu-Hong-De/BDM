{
 "cells": [
  {
   "cell_type": "code",
   "execution_count": 1,
   "metadata": {},
   "outputs": [],
   "source": [
    "import numpy as np\n",
    "from pyspark import SparkConf, SparkContext\n",
    "import time"
   ]
  },
  {
   "cell_type": "code",
   "execution_count": 2,
   "metadata": {},
   "outputs": [],
   "source": [
    "app_name = \"hw2_q3\"\n",
    "master_URL = \"spark://192.168.35.128:7077\""
   ]
  },
  {
   "cell_type": "code",
   "execution_count": 3,
   "metadata": {},
   "outputs": [],
   "source": [
    "start = time.time()\n",
    "conf = SparkConf().setAppName(app_name).setMaster(master_URL)\n",
    "sc = SparkContext(conf = conf)"
   ]
  },
  {
   "cell_type": "code",
   "execution_count": 4,
   "metadata": {},
   "outputs": [],
   "source": [
    "# 將資料以\"隔開\n",
    "def deal_process(data):\n",
    "    header = data.first()\n",
    "    data = data.filter(lambda x: x!=header)\n",
    "    data = data.map(lambda x: x.split(\"\\\"\"))\n",
    "    return data"
   ]
  },
  {
   "cell_type": "code",
   "execution_count": 5,
   "metadata": {},
   "outputs": [],
   "source": [
    "# 將SentimentTitle和SentimentHeadline相加並傳回\n",
    "def score_sum(rdd):\n",
    "    score_sum = 0\n",
    "    score_sum += float(rdd[1]) + float(rdd[2])\n",
    "    return score_sum"
   ]
  },
  {
   "cell_type": "code",
   "execution_count": 6,
   "metadata": {},
   "outputs": [],
   "source": [
    "# 將後半段資料以,分隔 以方便取出Sentiment和SentimentHeadline計算\n",
    "def split_back_part(rdd):\n",
    "    split_rdd = rdd.map(lambda x: x[10].split(\",\"))\n",
    "    return split_rdd"
   ]
  },
  {
   "cell_type": "code",
   "execution_count": 7,
   "metadata": {},
   "outputs": [],
   "source": [
    "# 讀入資料進行預處理\n",
    "data = deal_process(sc.textFile(\"News_Final.csv\"))"
   ]
  },
  {
   "cell_type": "code",
   "execution_count": 8,
   "metadata": {},
   "outputs": [
    {
     "name": "stdout",
     "output_type": "stream",
     "text": [
      "sentiment score sum of obama is -442.0553876046334\n",
      "sentiment score average of obama is -0.01781691135402174\n"
     ]
    }
   ],
   "source": [
    "# 計算topic為obama的sum和average\n",
    "topic_obama = split_back_part(data.filter(lambda x: x[7] == \"obama\"))\n",
    "topic_obama_ST = topic_obama.map(lambda x: score_sum(x))\n",
    "obama_sum = topic_obama_ST.sum()\n",
    "obama_average = obama_sum / topic_obama_ST.count()\n",
    "print(\"sentiment score sum of obama is {}\".format(obama_sum))\n",
    "print(\"sentiment score average of obama is {}\".format(obama_average))"
   ]
  },
  {
   "cell_type": "code",
   "execution_count": 9,
   "metadata": {},
   "outputs": [
    {
     "name": "stdout",
     "output_type": "stream",
     "text": [
      "sentiment score sum of economy is -1528.2664244267212\n",
      "sentiment score average of economy is -0.0505328976763787\n"
     ]
    }
   ],
   "source": [
    "# 計算topic為economy的sum和average\n",
    "topic_economy = split_back_part(data.filter(lambda x: x[7] == \"economy\"))\n",
    "topic_economy_ST = topic_economy.map(lambda x: score_sum(x))\n",
    "economy_sum = topic_economy_ST.sum()\n",
    "economy_average = economy_sum / topic_economy_ST.count()\n",
    "print(\"sentiment score sum of economy is {}\".format(economy_sum))\n",
    "print(\"sentiment score average of economy is {}\".format(economy_average))"
   ]
  },
  {
   "cell_type": "code",
   "execution_count": 10,
   "metadata": {},
   "outputs": [
    {
     "name": "stdout",
     "output_type": "stream",
     "text": [
      "sentiment score sum of microsoft is -261.46234359627175\n",
      "sentiment score average of microsoft is -0.012603024370783368\n"
     ]
    }
   ],
   "source": [
    "# 計算topic為microsoft的sum和average\n",
    "topic_microsoft = split_back_part(data.filter(lambda x: x[7] == \"microsoft\"))\n",
    "topic_microsoft_ST = topic_microsoft.map(lambda x: score_sum(x))\n",
    "microsoft_sum = topic_microsoft_ST.sum()\n",
    "microsoft_average = microsoft_sum / topic_microsoft_ST.count()\n",
    "print(\"sentiment score sum of microsoft is {}\".format(microsoft_sum))\n",
    "print(\"sentiment score average of microsoft is {}\".format(microsoft_average))"
   ]
  },
  {
   "cell_type": "code",
   "execution_count": 11,
   "metadata": {},
   "outputs": [
    {
     "name": "stdout",
     "output_type": "stream",
     "text": [
      "sentiment score sum of palestine is -477.50683677453605\n",
      "sentiment score average of palestine is -0.06325431670082608\n"
     ]
    }
   ],
   "source": [
    "# 計算topic為palestine的sum和average\n",
    "topic_palestine = split_back_part(data.filter(lambda x: x[7] == \"palestine\"))\n",
    "topic_palestine_ST = topic_palestine.map(lambda x: score_sum(x))\n",
    "palestine_sum = topic_palestine_ST.sum()\n",
    "palestine_average = palestine_sum / topic_palestine_ST.count()\n",
    "print(\"sentiment score sum of palestine is {}\".format(palestine_sum))\n",
    "print(\"sentiment score average of palestine is {}\".format(palestine_average))"
   ]
  },
  {
   "cell_type": "code",
   "execution_count": 12,
   "metadata": {},
   "outputs": [
    {
     "name": "stdout",
     "output_type": "stream",
     "text": [
      "time is 20.13240885734558\n"
     ]
    }
   ],
   "source": [
    "print(\"time is {}\".format(time.time() - start))"
   ]
  },
  {
   "cell_type": "code",
   "execution_count": 13,
   "metadata": {},
   "outputs": [],
   "source": [
    "sc.stop()"
   ]
  }
 ],
 "metadata": {
  "kernelspec": {
   "display_name": "Python 3",
   "language": "python",
   "name": "python3"
  },
  "language_info": {
   "codemirror_mode": {
    "name": "ipython",
    "version": 3
   },
   "file_extension": ".py",
   "mimetype": "text/x-python",
   "name": "python",
   "nbconvert_exporter": "python",
   "pygments_lexer": "ipython3",
   "version": "3.5.2"
  }
 },
 "nbformat": 4,
 "nbformat_minor": 4
}
