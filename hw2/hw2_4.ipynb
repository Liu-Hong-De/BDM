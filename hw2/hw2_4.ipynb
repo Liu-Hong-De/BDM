{
 "cells": [
  {
   "cell_type": "code",
   "execution_count": 1,
   "metadata": {},
   "outputs": [],
   "source": [
    "import numpy as np\n",
    "from pyspark import SparkConf, SparkContext\n",
    "import time\n",
    "import re\n",
    "import csv"
   ]
  },
  {
   "cell_type": "code",
   "execution_count": 2,
   "metadata": {},
   "outputs": [],
   "source": [
    "app_name = \"hw2_q4\"\n",
    "master_URL = \"spark://192.168.35.128:7077\""
   ]
  },
  {
   "cell_type": "code",
   "execution_count": 3,
   "metadata": {},
   "outputs": [],
   "source": [
    "start = time.time()\n",
    "conf = SparkConf().setAppName(app_name).setMaster(master_URL)\n",
    "sc = SparkContext(conf = conf)"
   ]
  },
  {
   "cell_type": "code",
   "execution_count": 4,
   "metadata": {},
   "outputs": [],
   "source": [
    "# 將資料以\",\"分隔\n",
    "def deal_process(data):\n",
    "    header = data.first()\n",
    "    data = data.filter(lambda x: x!=header)\n",
    "    data = data.map(lambda x: x.split('\",\"'))\n",
    "    return data"
   ]
  },
  {
   "cell_type": "code",
   "execution_count": 5,
   "metadata": {},
   "outputs": [],
   "source": [
    "def cal_matrix(count_data, top100_data):\n",
    "    co_occurrence_matrix = [[None] * 100 for i in range(100)]\n",
    "    for i in range(100):\n",
    "        for j in range(100):\n",
    "            frequency = 0\n",
    "            for index in range(len(count_data)):\n",
    "                if (top100_data[i] in count_data[index]) and (top100_data[j] in count_data[index]):\n",
    "                    frequency = frequency + 1\n",
    "            co_occurrence_matrix[i][j] = frequency\n",
    "    return co_occurrence_matrix"
   ]
  },
  {
   "cell_type": "code",
   "execution_count": 6,
   "metadata": {},
   "outputs": [],
   "source": [
    "# 寫檔\n",
    "def write(file_name, header_data, matrix_data):\n",
    "    with open(file_name, 'w', newline='') as csvFile:\n",
    "        output = csv.writer(csvFile)\n",
    "        list_header = []\n",
    "        i = 1\n",
    "        for i in range(101):\n",
    "            list_header.append(i)\n",
    "        output.writerow(list_header)\n",
    "        list_row = []\n",
    "        list_row.append(' ')\n",
    "        list_row[1:1]=header_data\n",
    "        output.writerow(list_row)\n",
    "        for index in range(len(matrix_data)):\n",
    "            list_Irow = []\n",
    "            list_Irow.append(header_data[index])\n",
    "            list_Irow[1:1]=matrix_data[index]\n",
    "            output.writerow(list_Irow)"
   ]
  },
  {
   "cell_type": "code",
   "execution_count": 7,
   "metadata": {},
   "outputs": [],
   "source": [
    "# 將資料進行預處理，以,分隔\n",
    "data = deal_process(sc.textFile(\"News_Final.csv\"))"
   ]
  },
  {
   "cell_type": "code",
   "execution_count": 8,
   "metadata": {},
   "outputs": [],
   "source": [
    "# topic為obama的資料處理\n",
    "data_obama_title = data.filter(lambda x: x[3] == \"obama\").flatMap(lambda x: re.split('[,* *]*', x[0].split(\",\\\"\")[1]))\n",
    "counts_of_obama_title = data_obama_title.map(lambda word: (word, 1)).reduceByKey(lambda a, b: a + b).sortBy(lambda x: x[1], False).filter(lambda x: x[0] != \"\")\n",
    "top100_obama_title_data = counts_of_obama_title.map(lambda x: x[0]).take(100)\n",
    "all_obama_title = data.filter(lambda x: x[3] == \"obama\").map(lambda x: re.split('[,* *]*', x[0].split(\",\\\"\")[1])).collect()\n",
    "cal_obama_title = cal_matrix(all_obama_title, top100_obama_title_data)\n",
    "write(\"obama_title_co_occurrence.csv\", top100_obama_title_data, cal_obama_title)"
   ]
  },
  {
   "cell_type": "code",
   "execution_count": 9,
   "metadata": {},
   "outputs": [],
   "source": [
    "# headline為obama的資料處理\n",
    "data_obama_headline = data.filter(lambda x: x[3] == \"obama\").flatMap(lambda x: re.split('[,* *]*', x[1]))\n",
    "counts_of_obama_headline = data_obama_headline.map(lambda word: (word, 1)).reduceByKey(lambda a, b: a + b).sortBy(lambda x: x[1], False).filter(lambda x: x[0] != \"\")\n",
    "top100_obama_headline_data = counts_of_obama_headline.map(lambda x: x[0]).take(100)\n",
    "all_obama_headline = data.filter(lambda x: x[3] == \"obama\").map(lambda x: re.split('[,* *]*', x[1])).collect()\n",
    "cal_obama_headline = cal_matrix(all_obama_headline, top100_obama_headline_data)\n",
    "write(\"obama_headline_co_occurrence.csv\", top100_obama_headline_data, cal_obama_headline)"
   ]
  },
  {
   "cell_type": "code",
   "execution_count": 10,
   "metadata": {},
   "outputs": [],
   "source": [
    "# topic為economy的資料處理\n",
    "data_economy_title = data.filter(lambda x: x[3] == \"economy\").flatMap(lambda x: re.split('[,* *]*', x[0].split(\",\\\"\")[1]))\n",
    "counts_of_economy_title = data_economy_title.map(lambda word: (word, 1)).reduceByKey(lambda a, b: a + b).sortBy(lambda x: x[1], False).filter(lambda x: x[0] != \"\")\n",
    "top100_economy_title_data = counts_of_economy_title.map(lambda x: x[0]).take(100)\n",
    "all_economy_title = data.filter(lambda x: x[3] == \"economy\").map(lambda x: re.split('[,* *]*', x[0].split(\",\\\"\")[1])).collect()\n",
    "cal_economy_title = cal_matrix(all_economy_title, top100_economy_title_data)\n",
    "write(\"economy_title_co_occurrence.csv\", top100_economy_title_data, cal_economy_title)"
   ]
  },
  {
   "cell_type": "code",
   "execution_count": 11,
   "metadata": {},
   "outputs": [],
   "source": [
    "# headline為economy的資料處理\n",
    "data_economy_headline = data.filter(lambda x: x[3] == \"economy\").flatMap(lambda x: re.split('[,* *]*', x[1]))\n",
    "counts_of_economy_headline = data_economy_headline.map(lambda word: (word, 1)).reduceByKey(lambda a, b: a + b).sortBy(lambda x: x[1], False).filter(lambda x: x[0] != \"\")\n",
    "top100_economy_headline_data = counts_of_economy_headline.map(lambda x: x[0]).take(100)\n",
    "all_economy_headline = data.filter(lambda x: x[3] == \"economy\").map(lambda x: re.split('[,* *]*', x[1])).collect()\n",
    "cal_economy_headline = cal_matrix(all_economy_headline, top100_economy_headline_data)\n",
    "write(\"economy_headline_co_occurrence.csv\", top100_economy_headline_data, cal_economy_headline)"
   ]
  },
  {
   "cell_type": "code",
   "execution_count": 12,
   "metadata": {},
   "outputs": [],
   "source": [
    "# topic為microsoft的資料處理\n",
    "data_microsoft_title = data.filter(lambda x: x[3] == \"microsoft\").flatMap(lambda x: re.split('[,* *]*', x[0].split(\",\\\"\")[1]))\n",
    "counts_of_microsoft_title = data_microsoft_title.map(lambda word: (word, 1)).reduceByKey(lambda a, b: a + b).sortBy(lambda x: x[1], False).filter(lambda x: x[0] != \"\")\n",
    "top100_microsoft_title_data = counts_of_microsoft_title.map(lambda x: x[0]).take(100)\n",
    "all_microsoft_title = data.filter(lambda x: x[3] == \"microsoft\").map(lambda x: re.split('[,* *]*', x[0].split(\",\\\"\")[1])).collect()\n",
    "cal_microsoft_title = cal_matrix(all_microsoft_title, top100_microsoft_title_data)\n",
    "write(\"microsoft_title_co_occurrence.csv\", top100_microsoft_title_data, cal_microsoft_title)"
   ]
  },
  {
   "cell_type": "code",
   "execution_count": 13,
   "metadata": {},
   "outputs": [],
   "source": [
    "# headline為microsoft的資料處理\n",
    "data_microsoft_headline = data.filter(lambda x: x[3] == \"microsoft\").flatMap(lambda x: re.split('[,* *]*', x[1]))\n",
    "counts_of_microsoft_headline = data_microsoft_headline.map(lambda word: (word, 1)).reduceByKey(lambda a, b: a + b).sortBy(lambda x: x[1], False).filter(lambda x: x[0] != \"\")\n",
    "top100_microsoft_headline_data = counts_of_microsoft_headline.map(lambda x: x[0]).take(100)\n",
    "all_microsoft_headline = data.filter(lambda x: x[3] == \"microsoft\").map(lambda x: re.split('[,* *]*', x[1])).collect()\n",
    "cal_microsoft_headline = cal_matrix(all_microsoft_headline, top100_microsoft_headline_data)\n",
    "write(\"microsoft_headline_co_occurrence.csv\", top100_microsoft_headline_data, cal_microsoft_headline)"
   ]
  },
  {
   "cell_type": "code",
   "execution_count": 14,
   "metadata": {},
   "outputs": [],
   "source": [
    "# topic為palestine的資料處理\n",
    "data_palestine_title = data.filter(lambda x: x[3] == \"palestine\").flatMap(lambda x: re.split('[,* *]*', x[0].split(\",\\\"\")[1]))\n",
    "counts_of_palestine_title = data_palestine_title.map(lambda word: (word, 1)).reduceByKey(lambda a, b: a + b).sortBy(lambda x: x[1], False).filter(lambda x: x[0] != \"\")\n",
    "top100_palestine_title_data = counts_of_palestine_title.map(lambda x: x[0]).take(100)\n",
    "all_palestine_title = data.filter(lambda x: x[3] == \"palestine\").map(lambda x: re.split('[,* *]*', x[0].split(\",\\\"\")[1])).collect()\n",
    "cal_palestine_title = cal_matrix(all_palestine_title, top100_palestine_title_data)\n",
    "write(\"palestine_title_co_occurrence.csv\", top100_palestine_title_data, cal_palestine_title)"
   ]
  },
  {
   "cell_type": "code",
   "execution_count": 15,
   "metadata": {},
   "outputs": [],
   "source": [
    "# headline為palestine的資料處理\n",
    "data_palestine_headline = data.filter(lambda x: x[3] == \"palestine\").flatMap(lambda x: re.split('[,* *]*', x[1]))\n",
    "counts_of_palestine_headline = data_palestine_headline.map(lambda word: (word, 1)).reduceByKey(lambda a, b: a + b).sortBy(lambda x: x[1], False).filter(lambda x: x[0] != \"\")\n",
    "top100_palestine_headline_data = counts_of_palestine_headline.map(lambda x: x[0]).take(100)\n",
    "all_palestine_headline = data.filter(lambda x: x[3] == \"palestine\").map(lambda x: re.split('[,* *]*', x[1])).collect()\n",
    "cal_palestine_headline = cal_matrix(all_palestine_headline, top100_palestine_headline_data)\n",
    "write(\"palestine_headline_co_occurrence.csv\", top100_palestine_headline_data, cal_palestine_headline)"
   ]
  },
  {
   "cell_type": "code",
   "execution_count": 16,
   "metadata": {},
   "outputs": [
    {
     "name": "stdout",
     "output_type": "stream",
     "text": [
      "time is 887.0726706981659\n"
     ]
    }
   ],
   "source": [
    "print(\"time is {}\".format(time.time() - start))"
   ]
  },
  {
   "cell_type": "code",
   "execution_count": 17,
   "metadata": {},
   "outputs": [],
   "source": [
    "sc.stop()"
   ]
  }
 ],
 "metadata": {
  "kernelspec": {
   "display_name": "Python 3",
   "language": "python",
   "name": "python3"
  },
  "language_info": {
   "codemirror_mode": {
    "name": "ipython",
    "version": 3
   },
   "file_extension": ".py",
   "mimetype": "text/x-python",
   "name": "python",
   "nbconvert_exporter": "python",
   "pygments_lexer": "ipython3",
   "version": "3.5.2"
  }
 },
 "nbformat": 4,
 "nbformat_minor": 4
}
