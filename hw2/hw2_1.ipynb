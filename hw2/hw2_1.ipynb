{
 "cells": [
  {
   "cell_type": "code",
   "execution_count": 1,
   "metadata": {},
   "outputs": [],
   "source": [
    "import numpy as np\n",
    "from pyspark import SparkConf, SparkContext\n",
    "import time\n",
    "import re"
   ]
  },
  {
   "cell_type": "code",
   "execution_count": 2,
   "metadata": {},
   "outputs": [],
   "source": [
    "app_name = \"hw2_q1\"\n",
    "master_URL = \"spark://192.168.35.128:7077\""
   ]
  },
  {
   "cell_type": "code",
   "execution_count": 3,
   "metadata": {},
   "outputs": [],
   "source": [
    "start = time.time()\n",
    "conf = SparkConf().setAppName(app_name).setMaster(master_URL)\n",
    "sc = SparkContext(conf = conf)"
   ]
  },
  {
   "cell_type": "code",
   "execution_count": 4,
   "metadata": {},
   "outputs": [],
   "source": [
    "# 將資料以\"分隔\n",
    "def deal_process(data):\n",
    "    header = data.first()\n",
    "    data = data.filter(lambda x: x!=header)\n",
    "    data = data.map(lambda x: x.split('\",\"'))\n",
    "    return data"
   ]
  },
  {
   "cell_type": "code",
   "execution_count": 5,
   "metadata": {},
   "outputs": [],
   "source": [
    "# 寫檔\n",
    "def write(file_name, rdd_data, todo):\n",
    "    output = open(file_name, \"w\")\n",
    "    if todo == \"time\":\n",
    "        header = '\"Date\", Word, Count\\n'\n",
    "        output.write(header)\n",
    "        output_format = '\"{}\",\"{}\",{}\\n'\n",
    "        for row in rdd_data.collect():\n",
    "            output.write(output_format.format(row[0][0], row[0][1], row[1]))\n",
    "    else:\n",
    "        header = '\"Word\",Count\\n'\n",
    "        output.write(header)\n",
    "        output_format = '\"{}\",{}\\n'\n",
    "        for row in rdd_data.collect():\n",
    "            output.write(output_format.format(row[0], row[1]))"
   ]
  },
  {
   "cell_type": "code",
   "execution_count": 6,
   "metadata": {},
   "outputs": [],
   "source": [
    "# 將資料進行預處理，以\",\"分隔\n",
    "data = deal_process(sc.textFile(\"News_Final.csv\"))"
   ]
  },
  {
   "cell_type": "code",
   "execution_count": 7,
   "metadata": {},
   "outputs": [],
   "source": [
    "# 全部資料的資料處理\n",
    "data_title = data.map(lambda x: x[0].split(\",\\\"\")).flatMap(lambda x: re.split('[,* *]*', x[1]))\n",
    "data_headline = data.flatMap(lambda x: re.split('[,* *]*', x[1]))\n",
    "all_counts_of_title = data_title.map(lambda word: (word, 1)).reduceByKey(lambda a, b: a + b).sortBy(lambda x: x[1], False).filter(lambda x: x[0] != \"\")\n",
    "all_counts_of_headline = data_headline.map(lambda word: (word, 1)).reduceByKey(lambda a, b: a + b).sortBy(lambda x: x[1], False).filter(lambda x: x[0] != \"\")\n",
    "write(\"Title_frequent_words_in_total.csv\", all_counts_of_title, \"all\")\n",
    "write(\"Headline_frequent_words_in_total.csv\", all_counts_of_headline, \"all\")"
   ]
  },
  {
   "cell_type": "code",
   "execution_count": 8,
   "metadata": {},
   "outputs": [],
   "source": [
    "# topic為obama的資料處理\n",
    "data_obama_title = data.filter(lambda x: x[3] == \"obama\").flatMap(lambda x: re.split('[,* *]*', x[0].split(\",\\\"\")[1]))\n",
    "data_obama_headline = data.filter(lambda x: x[3] == \"obama\").flatMap(lambda x: re.split('[,* *]*', x[1]))\n",
    "counts_of_obama_title = data_obama_title.map(lambda word: (word, 1)).reduceByKey(lambda a, b: a + b).sortBy(lambda x: x[1], False).filter(lambda x: x[0] != \"\")\n",
    "counts_of_obama_headline = data_obama_headline.map(lambda word: (word, 1)).reduceByKey(lambda a, b: a + b).sortBy(lambda x: x[1], False).filter(lambda x: x[0] != \"\")\n",
    "write(\"Title_frequent_words_in_obama.csv\", counts_of_obama_title, \"topic\")\n",
    "write(\"Headline_frequent_words_in_obama.csv\", counts_of_obama_headline, \"topic\")"
   ]
  },
  {
   "cell_type": "code",
   "execution_count": 9,
   "metadata": {},
   "outputs": [],
   "source": [
    "# topic為economy的資料處理\n",
    "data_economy_title = data.filter(lambda x: x[3] == \"economy\").flatMap(lambda x: re.split('[,* *]*', x[0].split(\",\\\"\")[1]))\n",
    "data_economy_headline = data.filter(lambda x: x[3] == \"economy\").flatMap(lambda x: re.split('[,* *]*', x[1]))\n",
    "counts_of_economy_title = data_economy_title.map(lambda word: (word, 1)).reduceByKey(lambda a, b: a + b).sortBy(lambda x: x[1], False).filter(lambda x: x[0] != \"\")\n",
    "counts_of_economy_headline = data_economy_headline.map(lambda word: (word, 1)).reduceByKey(lambda a, b: a + b).sortBy(lambda x: x[1], False).filter(lambda x: x[0] != \"\")\n",
    "write(\"Title_frequent_words_in_economy.csv\", counts_of_economy_title, \"topic\")\n",
    "write(\"Headline_frequent_words_in_economy.csv\", counts_of_economy_headline, \"topic\")"
   ]
  },
  {
   "cell_type": "code",
   "execution_count": 10,
   "metadata": {},
   "outputs": [],
   "source": [
    "# topic為microsoft的資料處理\n",
    "data_microsoft_title = data.filter(lambda x: x[3] == \"microsoft\").flatMap(lambda x: re.split('[,* *]*', x[0].split(\",\\\"\")[1]))\n",
    "data_microsoft_headline = data.filter(lambda x: x[3] == \"microsoft\").flatMap(lambda x: re.split('[,* *]*', x[1]))\n",
    "counts_of_microsoft_title = data_microsoft_title.map(lambda word: (word, 1)).reduceByKey(lambda a, b: a + b).sortBy(lambda x: x[1], False).filter(lambda x: x[0] != \"\")\n",
    "counts_of_microsoft_headline = data_microsoft_headline.map(lambda word: (word, 1)).reduceByKey(lambda a, b: a + b).sortBy(lambda x: x[1], False).filter(lambda x: x[0] != \"\")\n",
    "write(\"Title_frequent_words_in_microsoft.csv\", counts_of_microsoft_title, \"topic\")\n",
    "write(\"Headline_frequent_words_in_microsoft.csv\", counts_of_microsoft_headline, \"topic\")"
   ]
  },
  {
   "cell_type": "code",
   "execution_count": 11,
   "metadata": {},
   "outputs": [],
   "source": [
    "# topic為palestine的資料處理\n",
    "data_palestine_title = data.filter(lambda x: x[3] == \"palestine\").flatMap(lambda x: re.split('[,* *]*', x[0].split(\",\\\"\")[1]))\n",
    "data_palestine_headline = data.filter(lambda x: x[3] == \"palestine\").flatMap(lambda x: re.split('[,* *]*', x[1]))\n",
    "counts_of_palestine_title = data_palestine_title.map(lambda word: (word, 1)).reduceByKey(lambda a, b: a + b).sortBy(lambda x: x[1], False).filter(lambda x: x[0] != \"\")\n",
    "counts_of_palestine_headline = data_palestine_headline.map(lambda word: (word, 1)).reduceByKey(lambda a, b: a + b).sortBy(lambda x: x[1], False).filter(lambda x: x[0] != \"\")\n",
    "write(\"Title_frequent_words_in_palestine.csv\", counts_of_palestine_title, \"topic\")\n",
    "write(\"Headline_frequent_words_in_palestine.csv\", counts_of_palestine_headline, \"topic\")"
   ]
  },
  {
   "cell_type": "code",
   "execution_count": 12,
   "metadata": {},
   "outputs": [],
   "source": [
    "# 以時間歸類的資料處理\n",
    "title_time_data = data.map(lambda x: (x[4].split(\" \")[0], re.split('[,* *]*', x[0].split(\",\\\"\")[1]))).flatMap(lambda x: [(x[0], element) for element in x[1]]).map(lambda word: (word, 1)).reduceByKey(lambda a, b: a + b).sortBy(lambda x: (x[0][0], x[1]), False).filter(lambda x: x[0][1] != \"\")\n",
    "headline_time_data = data.map(lambda x: (x[4].split(\" \")[0], re.split('[,* *]*', x[1]))).flatMap(lambda x: [(x[0], element) for element in x[1]]).map(lambda word: (word, 1)).reduceByKey(lambda a, b: a + b).sortBy(lambda x: (x[0][0], x[1]), False).filter(lambda x: x[0][1] != \"\")\n",
    "write(\"Title_frequent_words_per_day.csv\", title_time_data, \"time\")\n",
    "write(\"Headline_frequent_words_per_day.csv\", headline_time_data, \"time\")"
   ]
  },
  {
   "cell_type": "code",
   "execution_count": 13,
   "metadata": {},
   "outputs": [
    {
     "name": "stdout",
     "output_type": "stream",
     "text": [
      "time is 222.89621543884277\n"
     ]
    }
   ],
   "source": [
    "print(\"time is {}\".format(time.time() - start))"
   ]
  },
  {
   "cell_type": "code",
   "execution_count": 14,
   "metadata": {},
   "outputs": [],
   "source": [
    "sc.stop()"
   ]
  }
 ],
 "metadata": {
  "kernelspec": {
   "display_name": "Python 3",
   "language": "python",
   "name": "python3"
  },
  "language_info": {
   "codemirror_mode": {
    "name": "ipython",
    "version": 3
   },
   "file_extension": ".py",
   "mimetype": "text/x-python",
   "name": "python",
   "nbconvert_exporter": "python",
   "pygments_lexer": "ipython3",
   "version": "3.5.2"
  }
 },
 "nbformat": 4,
 "nbformat_minor": 4
}
